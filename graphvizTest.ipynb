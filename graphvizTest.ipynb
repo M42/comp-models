{
 "metadata": {
  "name": ""
 },
 "nbformat": 3,
 "nbformat_minor": 0,
 "worksheets": [
  {
   "cells": [
    {
     "cell_type": "code",
     "collapsed": false,
     "input": [
      "from graphviz import Digraph"
     ],
     "language": "python",
     "metadata": {},
     "outputs": [],
     "prompt_number": 2
    },
    {
     "cell_type": "code",
     "collapsed": false,
     "input": [
      "# Defines a directed graph.\n",
      "# Creates nodes and edges.\n",
      "dot = Digraph(format='png')\n",
      "\n",
      "dot.node('A','Start',color='blue')\n",
      "dot.node('B','Even')\n",
      "dot.node('C','Odd')\n",
      "\n",
      "dot.edges(['AB','AC','BC','CB'])\n",
      "\n",
      "# Prints the source code.\n",
      "print(dot.source)\n",
      "dot.render('graph/test', view=True)"
     ],
     "language": "python",
     "metadata": {},
     "outputs": [
      {
       "output_type": "stream",
       "stream": "stdout",
       "text": [
        "digraph {\n",
        "\tA [label=Start color=blue]\n",
        "\tB [label=Even]\n",
        "\tC [label=Odd]\n",
        "\t\tA -> B\n",
        "\t\tA -> C\n",
        "\t\tB -> C\n",
        "\t\tC -> B\n",
        "}\n"
       ]
      },
      {
       "metadata": {},
       "output_type": "pyout",
       "prompt_number": 46,
       "text": [
        "'graph/test.png'"
       ]
      }
     ],
     "prompt_number": 46
    },
    {
     "cell_type": "code",
     "collapsed": false,
     "input": [
      "# Inserts the image.\n",
      "from IPython.display import Image\n",
      "Image(filename='graph/test.png')"
     ],
     "language": "python",
     "metadata": {},
     "outputs": [
      {
       "metadata": {},
       "output_type": "pyout",
       "png": "[encoded data removed]",
       "prompt_number": 47,
       "text": [
        "<IPython.core.display.Image at 0x7fdb480ec150>"
       ]
      }
     ],
     "prompt_number": 47
    },
    {
     "cell_type": "code",
     "collapsed": false,
     "input": [],
     "language": "python",
     "metadata": {},
     "outputs": []
    }
   ],
   "metadata": {}
  }
 ]
}